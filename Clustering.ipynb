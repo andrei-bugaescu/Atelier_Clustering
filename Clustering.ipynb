{
  "nbformat": 4,
  "nbformat_minor": 0,
  "metadata": {
    "colab": {
      "name": "Clustering",
      "provenance": [],
      "collapsed_sections": []
    },
    "kernelspec": {
      "name": "python3",
      "display_name": "Python 3"
    }
  },
  "cells": [
    {
      "cell_type": "markdown",
      "metadata": {
        "id": "HwgY9ZVhw98U"
      },
      "source": [
        "# Atelier Clustering\n",
        "---"
      ]
    },
    {
      "cell_type": "code",
      "metadata": {
        "colab": {
          "base_uri": "https://localhost:8080/"
        },
        "id": "z5KzG1-oMja9",
        "outputId": "d926e069-7ec1-48dc-8ffc-ec3981b7927f"
      },
      "source": [
        "from google.colab import drive\n",
        "drive.mount('/content/drive')"
      ],
      "execution_count": null,
      "outputs": [
        {
          "output_type": "stream",
          "name": "stdout",
          "text": [
            "Mounted at /content/drive\n"
          ]
        }
      ]
    },
    {
      "cell_type": "code",
      "metadata": {
        "id": "gHXSzYlsrWLX"
      },
      "source": [
        "import pandas as pd\n",
        "import numpy as np\n",
        " \n",
        "from matplotlib import pyplot as plt\n",
        "from scipy.cluster.hierarchy import dendrogram, linkage, fcluster\n",
        "from sklearn import cluster, metrics"
      ],
      "execution_count": null,
      "outputs": []
    },
    {
      "cell_type": "markdown",
      "metadata": {
        "id": "z9wP2ZZxxGyr"
      },
      "source": [
        "L'objectif de cette activité est de vous exercer aux différentes techniques du clustering (KMeans, CAH). Votre mission: identifier des groupes de fromages homogènes, partageant des caractéristiques similaires. La donnée proposée regroupe les propriétés nutritives (ex. protéines, lipides, etc. ; 9 variables) de 29 fromages."
      ]
    },
    {
      "cell_type": "markdown",
      "metadata": {
        "id": "bp-ypE8pehO_"
      },
      "source": [
        "## EDA - Exploratory Data Analysis"
      ]
    },
    {
      "cell_type": "markdown",
      "metadata": {
        "id": "d73Bjey9yoh8"
      },
      "source": [
        "1) Lire votre fichier 'fromages.txt'"
      ]
    },
    {
      "cell_type": "code",
      "metadata": {
        "id": "NlNAAfwJLzGv",
        "colab": {
          "base_uri": "https://localhost:8080/",
          "height": 959
        },
        "outputId": "a7ca6b54-3e1d-4039-e74d-6bf6d38d1e8a"
      },
      "source": [
        "import pandas as pd\n",
        "from sklearn.linear_model import LinearRegression\n",
        "\n",
        "\n",
        "df= pd.read_csv(\"/content/drive/MyDrive/Copie de fromages.txt\", sep = \" \")\n",
        "df"
      ],
      "execution_count": null,
      "outputs": [
        {
          "output_type": "execute_result",
          "data": {
            "text/html": [
              "<div>\n",
              "<style scoped>\n",
              "    .dataframe tbody tr th:only-of-type {\n",
              "        vertical-align: middle;\n",
              "    }\n",
              "\n",
              "    .dataframe tbody tr th {\n",
              "        vertical-align: top;\n",
              "    }\n",
              "\n",
              "    .dataframe thead th {\n",
              "        text-align: right;\n",
              "    }\n",
              "</style>\n",
              "<table border=\"1\" class=\"dataframe\">\n",
              "  <thead>\n",
              "    <tr style=\"text-align: right;\">\n",
              "      <th></th>\n",
              "      <th>Fromages</th>\n",
              "      <th>calories</th>\n",
              "      <th>sodium</th>\n",
              "      <th>calcium</th>\n",
              "      <th>lipides</th>\n",
              "      <th>retinol</th>\n",
              "      <th>folates</th>\n",
              "      <th>proteines</th>\n",
              "      <th>cholesterol</th>\n",
              "      <th>magnesium</th>\n",
              "    </tr>\n",
              "  </thead>\n",
              "  <tbody>\n",
              "    <tr>\n",
              "      <th>0</th>\n",
              "      <td>CarredelEst</td>\n",
              "      <td>314</td>\n",
              "      <td>353.5</td>\n",
              "      <td>72.6</td>\n",
              "      <td>26.3</td>\n",
              "      <td>51.6</td>\n",
              "      <td>30.3</td>\n",
              "      <td>21.0</td>\n",
              "      <td>70</td>\n",
              "      <td>20</td>\n",
              "    </tr>\n",
              "    <tr>\n",
              "      <th>1</th>\n",
              "      <td>Babybel</td>\n",
              "      <td>314</td>\n",
              "      <td>238.0</td>\n",
              "      <td>209.8</td>\n",
              "      <td>25.1</td>\n",
              "      <td>63.7</td>\n",
              "      <td>6.4</td>\n",
              "      <td>22.6</td>\n",
              "      <td>70</td>\n",
              "      <td>27</td>\n",
              "    </tr>\n",
              "    <tr>\n",
              "      <th>2</th>\n",
              "      <td>Beaufort</td>\n",
              "      <td>401</td>\n",
              "      <td>112.0</td>\n",
              "      <td>259.4</td>\n",
              "      <td>33.3</td>\n",
              "      <td>54.9</td>\n",
              "      <td>1.2</td>\n",
              "      <td>26.6</td>\n",
              "      <td>120</td>\n",
              "      <td>41</td>\n",
              "    </tr>\n",
              "    <tr>\n",
              "      <th>3</th>\n",
              "      <td>Bleu</td>\n",
              "      <td>342</td>\n",
              "      <td>336.0</td>\n",
              "      <td>211.1</td>\n",
              "      <td>28.9</td>\n",
              "      <td>37.1</td>\n",
              "      <td>27.5</td>\n",
              "      <td>20.2</td>\n",
              "      <td>90</td>\n",
              "      <td>27</td>\n",
              "    </tr>\n",
              "    <tr>\n",
              "      <th>4</th>\n",
              "      <td>Camembert</td>\n",
              "      <td>264</td>\n",
              "      <td>314.0</td>\n",
              "      <td>215.9</td>\n",
              "      <td>19.5</td>\n",
              "      <td>103.0</td>\n",
              "      <td>36.4</td>\n",
              "      <td>23.4</td>\n",
              "      <td>60</td>\n",
              "      <td>20</td>\n",
              "    </tr>\n",
              "    <tr>\n",
              "      <th>5</th>\n",
              "      <td>Cantal</td>\n",
              "      <td>367</td>\n",
              "      <td>256.0</td>\n",
              "      <td>264.0</td>\n",
              "      <td>28.8</td>\n",
              "      <td>48.8</td>\n",
              "      <td>5.7</td>\n",
              "      <td>23.0</td>\n",
              "      <td>90</td>\n",
              "      <td>30</td>\n",
              "    </tr>\n",
              "    <tr>\n",
              "      <th>6</th>\n",
              "      <td>Chabichou</td>\n",
              "      <td>344</td>\n",
              "      <td>192.0</td>\n",
              "      <td>87.2</td>\n",
              "      <td>27.9</td>\n",
              "      <td>90.1</td>\n",
              "      <td>36.3</td>\n",
              "      <td>19.5</td>\n",
              "      <td>80</td>\n",
              "      <td>36</td>\n",
              "    </tr>\n",
              "    <tr>\n",
              "      <th>7</th>\n",
              "      <td>Chaource</td>\n",
              "      <td>292</td>\n",
              "      <td>276.0</td>\n",
              "      <td>132.9</td>\n",
              "      <td>25.4</td>\n",
              "      <td>116.4</td>\n",
              "      <td>32.5</td>\n",
              "      <td>17.8</td>\n",
              "      <td>70</td>\n",
              "      <td>25</td>\n",
              "    </tr>\n",
              "    <tr>\n",
              "      <th>8</th>\n",
              "      <td>Cheddar</td>\n",
              "      <td>406</td>\n",
              "      <td>172.0</td>\n",
              "      <td>182.3</td>\n",
              "      <td>32.5</td>\n",
              "      <td>76.4</td>\n",
              "      <td>4.9</td>\n",
              "      <td>26.0</td>\n",
              "      <td>110</td>\n",
              "      <td>28</td>\n",
              "    </tr>\n",
              "    <tr>\n",
              "      <th>9</th>\n",
              "      <td>Comte</td>\n",
              "      <td>399</td>\n",
              "      <td>92.0</td>\n",
              "      <td>220.5</td>\n",
              "      <td>32.4</td>\n",
              "      <td>55.9</td>\n",
              "      <td>1.3</td>\n",
              "      <td>29.2</td>\n",
              "      <td>120</td>\n",
              "      <td>51</td>\n",
              "    </tr>\n",
              "    <tr>\n",
              "      <th>10</th>\n",
              "      <td>Coulomniers</td>\n",
              "      <td>308</td>\n",
              "      <td>222.0</td>\n",
              "      <td>79.2</td>\n",
              "      <td>25.6</td>\n",
              "      <td>63.6</td>\n",
              "      <td>21.1</td>\n",
              "      <td>20.5</td>\n",
              "      <td>80</td>\n",
              "      <td>13</td>\n",
              "    </tr>\n",
              "    <tr>\n",
              "      <th>11</th>\n",
              "      <td>Edam</td>\n",
              "      <td>327</td>\n",
              "      <td>148.0</td>\n",
              "      <td>272.2</td>\n",
              "      <td>24.7</td>\n",
              "      <td>65.7</td>\n",
              "      <td>5.5</td>\n",
              "      <td>24.7</td>\n",
              "      <td>80</td>\n",
              "      <td>44</td>\n",
              "    </tr>\n",
              "    <tr>\n",
              "      <th>12</th>\n",
              "      <td>Emmental</td>\n",
              "      <td>378</td>\n",
              "      <td>60.0</td>\n",
              "      <td>308.2</td>\n",
              "      <td>29.4</td>\n",
              "      <td>56.3</td>\n",
              "      <td>2.4</td>\n",
              "      <td>29.4</td>\n",
              "      <td>110</td>\n",
              "      <td>45</td>\n",
              "    </tr>\n",
              "    <tr>\n",
              "      <th>13</th>\n",
              "      <td>Fr.chevrepatemolle</td>\n",
              "      <td>206</td>\n",
              "      <td>160.0</td>\n",
              "      <td>72.8</td>\n",
              "      <td>18.5</td>\n",
              "      <td>150.5</td>\n",
              "      <td>31.0</td>\n",
              "      <td>11.1</td>\n",
              "      <td>50</td>\n",
              "      <td>16</td>\n",
              "    </tr>\n",
              "    <tr>\n",
              "      <th>14</th>\n",
              "      <td>Fr.fondu.45</td>\n",
              "      <td>292</td>\n",
              "      <td>390.0</td>\n",
              "      <td>168.5</td>\n",
              "      <td>24.0</td>\n",
              "      <td>77.4</td>\n",
              "      <td>5.5</td>\n",
              "      <td>16.8</td>\n",
              "      <td>70</td>\n",
              "      <td>20</td>\n",
              "    </tr>\n",
              "    <tr>\n",
              "      <th>15</th>\n",
              "      <td>Fr.frais20nat.</td>\n",
              "      <td>80</td>\n",
              "      <td>41.0</td>\n",
              "      <td>146.3</td>\n",
              "      <td>3.5</td>\n",
              "      <td>50.0</td>\n",
              "      <td>20.0</td>\n",
              "      <td>8.3</td>\n",
              "      <td>10</td>\n",
              "      <td>11</td>\n",
              "    </tr>\n",
              "    <tr>\n",
              "      <th>16</th>\n",
              "      <td>Fr.frais40nat.</td>\n",
              "      <td>115</td>\n",
              "      <td>25.0</td>\n",
              "      <td>94.8</td>\n",
              "      <td>7.8</td>\n",
              "      <td>64.3</td>\n",
              "      <td>22.6</td>\n",
              "      <td>7.0</td>\n",
              "      <td>30</td>\n",
              "      <td>10</td>\n",
              "    </tr>\n",
              "    <tr>\n",
              "      <th>17</th>\n",
              "      <td>Maroilles</td>\n",
              "      <td>338</td>\n",
              "      <td>311.0</td>\n",
              "      <td>236.7</td>\n",
              "      <td>29.1</td>\n",
              "      <td>46.7</td>\n",
              "      <td>3.6</td>\n",
              "      <td>20.4</td>\n",
              "      <td>90</td>\n",
              "      <td>40</td>\n",
              "    </tr>\n",
              "    <tr>\n",
              "      <th>18</th>\n",
              "      <td>Morbier</td>\n",
              "      <td>347</td>\n",
              "      <td>285.0</td>\n",
              "      <td>219.0</td>\n",
              "      <td>29.5</td>\n",
              "      <td>57.6</td>\n",
              "      <td>5.8</td>\n",
              "      <td>23.6</td>\n",
              "      <td>80</td>\n",
              "      <td>30</td>\n",
              "    </tr>\n",
              "    <tr>\n",
              "      <th>19</th>\n",
              "      <td>Parmesan</td>\n",
              "      <td>381</td>\n",
              "      <td>240.0</td>\n",
              "      <td>334.6</td>\n",
              "      <td>27.5</td>\n",
              "      <td>90.0</td>\n",
              "      <td>5.2</td>\n",
              "      <td>35.7</td>\n",
              "      <td>80</td>\n",
              "      <td>46</td>\n",
              "    </tr>\n",
              "    <tr>\n",
              "      <th>20</th>\n",
              "      <td>Petitsuisse40</td>\n",
              "      <td>142</td>\n",
              "      <td>22.0</td>\n",
              "      <td>78.2</td>\n",
              "      <td>10.4</td>\n",
              "      <td>63.4</td>\n",
              "      <td>20.4</td>\n",
              "      <td>9.4</td>\n",
              "      <td>20</td>\n",
              "      <td>10</td>\n",
              "    </tr>\n",
              "    <tr>\n",
              "      <th>21</th>\n",
              "      <td>PontlEveque</td>\n",
              "      <td>300</td>\n",
              "      <td>223.0</td>\n",
              "      <td>156.7</td>\n",
              "      <td>23.4</td>\n",
              "      <td>53.0</td>\n",
              "      <td>4.0</td>\n",
              "      <td>21.1</td>\n",
              "      <td>70</td>\n",
              "      <td>22</td>\n",
              "    </tr>\n",
              "    <tr>\n",
              "      <th>22</th>\n",
              "      <td>Pyrenees</td>\n",
              "      <td>355</td>\n",
              "      <td>232.0</td>\n",
              "      <td>178.9</td>\n",
              "      <td>28.0</td>\n",
              "      <td>51.5</td>\n",
              "      <td>6.8</td>\n",
              "      <td>22.4</td>\n",
              "      <td>90</td>\n",
              "      <td>25</td>\n",
              "    </tr>\n",
              "    <tr>\n",
              "      <th>23</th>\n",
              "      <td>Reblochon</td>\n",
              "      <td>309</td>\n",
              "      <td>272.0</td>\n",
              "      <td>202.3</td>\n",
              "      <td>24.6</td>\n",
              "      <td>73.1</td>\n",
              "      <td>8.1</td>\n",
              "      <td>19.7</td>\n",
              "      <td>80</td>\n",
              "      <td>30</td>\n",
              "    </tr>\n",
              "    <tr>\n",
              "      <th>24</th>\n",
              "      <td>Rocquefort</td>\n",
              "      <td>370</td>\n",
              "      <td>432.0</td>\n",
              "      <td>162.0</td>\n",
              "      <td>31.2</td>\n",
              "      <td>83.5</td>\n",
              "      <td>13.3</td>\n",
              "      <td>18.7</td>\n",
              "      <td>100</td>\n",
              "      <td>25</td>\n",
              "    </tr>\n",
              "    <tr>\n",
              "      <th>25</th>\n",
              "      <td>SaintPaulin</td>\n",
              "      <td>298</td>\n",
              "      <td>205.0</td>\n",
              "      <td>261.0</td>\n",
              "      <td>23.3</td>\n",
              "      <td>60.4</td>\n",
              "      <td>6.7</td>\n",
              "      <td>23.3</td>\n",
              "      <td>70</td>\n",
              "      <td>26</td>\n",
              "    </tr>\n",
              "    <tr>\n",
              "      <th>26</th>\n",
              "      <td>Tome</td>\n",
              "      <td>321</td>\n",
              "      <td>252.0</td>\n",
              "      <td>125.5</td>\n",
              "      <td>27.3</td>\n",
              "      <td>62.3</td>\n",
              "      <td>6.2</td>\n",
              "      <td>21.8</td>\n",
              "      <td>80</td>\n",
              "      <td>20</td>\n",
              "    </tr>\n",
              "    <tr>\n",
              "      <th>27</th>\n",
              "      <td>Vacherin</td>\n",
              "      <td>321</td>\n",
              "      <td>140.0</td>\n",
              "      <td>218.0</td>\n",
              "      <td>29.3</td>\n",
              "      <td>49.2</td>\n",
              "      <td>3.7</td>\n",
              "      <td>17.6</td>\n",
              "      <td>80</td>\n",
              "      <td>30</td>\n",
              "    </tr>\n",
              "    <tr>\n",
              "      <th>28</th>\n",
              "      <td>Yaourtlaitent.nat.</td>\n",
              "      <td>70</td>\n",
              "      <td>91.0</td>\n",
              "      <td>215.7</td>\n",
              "      <td>3.4</td>\n",
              "      <td>42.9</td>\n",
              "      <td>2.9</td>\n",
              "      <td>4.1</td>\n",
              "      <td>13</td>\n",
              "      <td>14</td>\n",
              "    </tr>\n",
              "  </tbody>\n",
              "</table>\n",
              "</div>"
            ],
            "text/plain": [
              "              Fromages  calories  sodium  ...  proteines  cholesterol  magnesium\n",
              "0          CarredelEst       314   353.5  ...       21.0           70         20\n",
              "1              Babybel       314   238.0  ...       22.6           70         27\n",
              "2             Beaufort       401   112.0  ...       26.6          120         41\n",
              "3                 Bleu       342   336.0  ...       20.2           90         27\n",
              "4            Camembert       264   314.0  ...       23.4           60         20\n",
              "5               Cantal       367   256.0  ...       23.0           90         30\n",
              "6            Chabichou       344   192.0  ...       19.5           80         36\n",
              "7             Chaource       292   276.0  ...       17.8           70         25\n",
              "8              Cheddar       406   172.0  ...       26.0          110         28\n",
              "9                Comte       399    92.0  ...       29.2          120         51\n",
              "10         Coulomniers       308   222.0  ...       20.5           80         13\n",
              "11                Edam       327   148.0  ...       24.7           80         44\n",
              "12            Emmental       378    60.0  ...       29.4          110         45\n",
              "13  Fr.chevrepatemolle       206   160.0  ...       11.1           50         16\n",
              "14         Fr.fondu.45       292   390.0  ...       16.8           70         20\n",
              "15      Fr.frais20nat.        80    41.0  ...        8.3           10         11\n",
              "16      Fr.frais40nat.       115    25.0  ...        7.0           30         10\n",
              "17           Maroilles       338   311.0  ...       20.4           90         40\n",
              "18             Morbier       347   285.0  ...       23.6           80         30\n",
              "19            Parmesan       381   240.0  ...       35.7           80         46\n",
              "20       Petitsuisse40       142    22.0  ...        9.4           20         10\n",
              "21         PontlEveque       300   223.0  ...       21.1           70         22\n",
              "22            Pyrenees       355   232.0  ...       22.4           90         25\n",
              "23           Reblochon       309   272.0  ...       19.7           80         30\n",
              "24          Rocquefort       370   432.0  ...       18.7          100         25\n",
              "25         SaintPaulin       298   205.0  ...       23.3           70         26\n",
              "26                Tome       321   252.0  ...       21.8           80         20\n",
              "27            Vacherin       321   140.0  ...       17.6           80         30\n",
              "28  Yaourtlaitent.nat.        70    91.0  ...        4.1           13         14\n",
              "\n",
              "[29 rows x 10 columns]"
            ]
          },
          "metadata": {},
          "execution_count": 3
        }
      ]
    },
    {
      "cell_type": "code",
      "metadata": {
        "id": "_zXNVi-OCy-b"
      },
      "source": [
        "df.isna().sum()"
      ],
      "execution_count": null,
      "outputs": []
    },
    {
      "cell_type": "code",
      "metadata": {
        "colab": {
          "base_uri": "https://localhost:8080/",
          "height": 300
        },
        "id": "LBs_TjAvNqTf",
        "outputId": "499a5332-8593-400a-b261-f6d40aa2bc8e"
      },
      "source": [
        "df.describe()"
      ],
      "execution_count": null,
      "outputs": [
        {
          "output_type": "execute_result",
          "data": {
            "text/html": [
              "<div>\n",
              "<style scoped>\n",
              "    .dataframe tbody tr th:only-of-type {\n",
              "        vertical-align: middle;\n",
              "    }\n",
              "\n",
              "    .dataframe tbody tr th {\n",
              "        vertical-align: top;\n",
              "    }\n",
              "\n",
              "    .dataframe thead th {\n",
              "        text-align: right;\n",
              "    }\n",
              "</style>\n",
              "<table border=\"1\" class=\"dataframe\">\n",
              "  <thead>\n",
              "    <tr style=\"text-align: right;\">\n",
              "      <th></th>\n",
              "      <th>calories</th>\n",
              "      <th>sodium</th>\n",
              "      <th>calcium</th>\n",
              "      <th>lipides</th>\n",
              "      <th>retinol</th>\n",
              "      <th>folates</th>\n",
              "      <th>proteines</th>\n",
              "      <th>cholesterol</th>\n",
              "      <th>magnesium</th>\n",
              "    </tr>\n",
              "  </thead>\n",
              "  <tbody>\n",
              "    <tr>\n",
              "      <th>count</th>\n",
              "      <td>29.000000</td>\n",
              "      <td>29.000000</td>\n",
              "      <td>29.000000</td>\n",
              "      <td>29.000000</td>\n",
              "      <td>29.000000</td>\n",
              "      <td>29.000000</td>\n",
              "      <td>29.000000</td>\n",
              "      <td>29.000000</td>\n",
              "      <td>29.000000</td>\n",
              "    </tr>\n",
              "    <tr>\n",
              "      <th>mean</th>\n",
              "      <td>300.034483</td>\n",
              "      <td>210.086207</td>\n",
              "      <td>185.734483</td>\n",
              "      <td>24.158621</td>\n",
              "      <td>67.562069</td>\n",
              "      <td>13.010345</td>\n",
              "      <td>20.168966</td>\n",
              "      <td>74.586207</td>\n",
              "      <td>26.965517</td>\n",
              "    </tr>\n",
              "    <tr>\n",
              "      <th>std</th>\n",
              "      <td>91.914356</td>\n",
              "      <td>108.678923</td>\n",
              "      <td>72.528882</td>\n",
              "      <td>8.129642</td>\n",
              "      <td>24.163098</td>\n",
              "      <td>11.723339</td>\n",
              "      <td>6.959788</td>\n",
              "      <td>28.245755</td>\n",
              "      <td>11.318388</td>\n",
              "    </tr>\n",
              "    <tr>\n",
              "      <th>min</th>\n",
              "      <td>70.000000</td>\n",
              "      <td>22.000000</td>\n",
              "      <td>72.600000</td>\n",
              "      <td>3.400000</td>\n",
              "      <td>37.100000</td>\n",
              "      <td>1.200000</td>\n",
              "      <td>4.100000</td>\n",
              "      <td>10.000000</td>\n",
              "      <td>10.000000</td>\n",
              "    </tr>\n",
              "    <tr>\n",
              "      <th>25%</th>\n",
              "      <td>292.000000</td>\n",
              "      <td>140.000000</td>\n",
              "      <td>132.900000</td>\n",
              "      <td>23.400000</td>\n",
              "      <td>51.600000</td>\n",
              "      <td>4.900000</td>\n",
              "      <td>17.800000</td>\n",
              "      <td>70.000000</td>\n",
              "      <td>20.000000</td>\n",
              "    </tr>\n",
              "    <tr>\n",
              "      <th>50%</th>\n",
              "      <td>321.000000</td>\n",
              "      <td>223.000000</td>\n",
              "      <td>202.300000</td>\n",
              "      <td>26.300000</td>\n",
              "      <td>62.300000</td>\n",
              "      <td>6.400000</td>\n",
              "      <td>21.000000</td>\n",
              "      <td>80.000000</td>\n",
              "      <td>26.000000</td>\n",
              "    </tr>\n",
              "    <tr>\n",
              "      <th>75%</th>\n",
              "      <td>355.000000</td>\n",
              "      <td>276.000000</td>\n",
              "      <td>220.500000</td>\n",
              "      <td>29.100000</td>\n",
              "      <td>76.400000</td>\n",
              "      <td>21.100000</td>\n",
              "      <td>23.400000</td>\n",
              "      <td>90.000000</td>\n",
              "      <td>30.000000</td>\n",
              "    </tr>\n",
              "    <tr>\n",
              "      <th>max</th>\n",
              "      <td>406.000000</td>\n",
              "      <td>432.000000</td>\n",
              "      <td>334.600000</td>\n",
              "      <td>33.300000</td>\n",
              "      <td>150.500000</td>\n",
              "      <td>36.400000</td>\n",
              "      <td>35.700000</td>\n",
              "      <td>120.000000</td>\n",
              "      <td>51.000000</td>\n",
              "    </tr>\n",
              "  </tbody>\n",
              "</table>\n",
              "</div>"
            ],
            "text/plain": [
              "         calories      sodium     calcium  ...  proteines  cholesterol  magnesium\n",
              "count   29.000000   29.000000   29.000000  ...  29.000000    29.000000  29.000000\n",
              "mean   300.034483  210.086207  185.734483  ...  20.168966    74.586207  26.965517\n",
              "std     91.914356  108.678923   72.528882  ...   6.959788    28.245755  11.318388\n",
              "min     70.000000   22.000000   72.600000  ...   4.100000    10.000000  10.000000\n",
              "25%    292.000000  140.000000  132.900000  ...  17.800000    70.000000  20.000000\n",
              "50%    321.000000  223.000000  202.300000  ...  21.000000    80.000000  26.000000\n",
              "75%    355.000000  276.000000  220.500000  ...  23.400000    90.000000  30.000000\n",
              "max    406.000000  432.000000  334.600000  ...  35.700000   120.000000  51.000000\n",
              "\n",
              "[8 rows x 9 columns]"
            ]
          },
          "metadata": {},
          "execution_count": 69
        }
      ]
    },
    {
      "cell_type": "markdown",
      "metadata": {
        "id": "h2H8SrtBevwp"
      },
      "source": [
        "2) Vérifier si des valeurs manquantes existent, afficher les premières statistiques descriptives du dataframe"
      ]
    },
    {
      "cell_type": "markdown",
      "metadata": {
        "id": "Y1x8BD7NG05Z"
      },
      "source": [
        "Il n'y a pas de valeurs manquantes"
      ]
    },
    {
      "cell_type": "code",
      "metadata": {
        "id": "Qz8xilIJMMNx",
        "colab": {
          "base_uri": "https://localhost:8080/"
        },
        "outputId": "64bd9480-5fec-473d-ff84-89d808354be9"
      },
      "source": [
        "df.shape"
      ],
      "execution_count": null,
      "outputs": [
        {
          "output_type": "execute_result",
          "data": {
            "text/plain": [
              "(29, 10)"
            ]
          },
          "metadata": {},
          "execution_count": 70
        }
      ]
    },
    {
      "cell_type": "code",
      "metadata": {
        "colab": {
          "base_uri": "https://localhost:8080/",
          "height": 300
        },
        "id": "-VNW_Y-sObGA",
        "outputId": "e7b237f0-ff20-44d4-e5f2-4fa327fc6feb"
      },
      "source": [
        "df.describe()"
      ],
      "execution_count": null,
      "outputs": [
        {
          "output_type": "execute_result",
          "data": {
            "text/html": [
              "<div>\n",
              "<style scoped>\n",
              "    .dataframe tbody tr th:only-of-type {\n",
              "        vertical-align: middle;\n",
              "    }\n",
              "\n",
              "    .dataframe tbody tr th {\n",
              "        vertical-align: top;\n",
              "    }\n",
              "\n",
              "    .dataframe thead th {\n",
              "        text-align: right;\n",
              "    }\n",
              "</style>\n",
              "<table border=\"1\" class=\"dataframe\">\n",
              "  <thead>\n",
              "    <tr style=\"text-align: right;\">\n",
              "      <th></th>\n",
              "      <th>calories</th>\n",
              "      <th>sodium</th>\n",
              "      <th>calcium</th>\n",
              "      <th>lipides</th>\n",
              "      <th>retinol</th>\n",
              "      <th>folates</th>\n",
              "      <th>proteines</th>\n",
              "      <th>cholesterol</th>\n",
              "      <th>magnesium</th>\n",
              "    </tr>\n",
              "  </thead>\n",
              "  <tbody>\n",
              "    <tr>\n",
              "      <th>count</th>\n",
              "      <td>29.000000</td>\n",
              "      <td>29.000000</td>\n",
              "      <td>29.000000</td>\n",
              "      <td>29.000000</td>\n",
              "      <td>29.000000</td>\n",
              "      <td>29.000000</td>\n",
              "      <td>29.000000</td>\n",
              "      <td>29.000000</td>\n",
              "      <td>29.000000</td>\n",
              "    </tr>\n",
              "    <tr>\n",
              "      <th>mean</th>\n",
              "      <td>300.034483</td>\n",
              "      <td>210.086207</td>\n",
              "      <td>185.734483</td>\n",
              "      <td>24.158621</td>\n",
              "      <td>67.562069</td>\n",
              "      <td>13.010345</td>\n",
              "      <td>20.168966</td>\n",
              "      <td>74.586207</td>\n",
              "      <td>26.965517</td>\n",
              "    </tr>\n",
              "    <tr>\n",
              "      <th>std</th>\n",
              "      <td>91.914356</td>\n",
              "      <td>108.678923</td>\n",
              "      <td>72.528882</td>\n",
              "      <td>8.129642</td>\n",
              "      <td>24.163098</td>\n",
              "      <td>11.723339</td>\n",
              "      <td>6.959788</td>\n",
              "      <td>28.245755</td>\n",
              "      <td>11.318388</td>\n",
              "    </tr>\n",
              "    <tr>\n",
              "      <th>min</th>\n",
              "      <td>70.000000</td>\n",
              "      <td>22.000000</td>\n",
              "      <td>72.600000</td>\n",
              "      <td>3.400000</td>\n",
              "      <td>37.100000</td>\n",
              "      <td>1.200000</td>\n",
              "      <td>4.100000</td>\n",
              "      <td>10.000000</td>\n",
              "      <td>10.000000</td>\n",
              "    </tr>\n",
              "    <tr>\n",
              "      <th>25%</th>\n",
              "      <td>292.000000</td>\n",
              "      <td>140.000000</td>\n",
              "      <td>132.900000</td>\n",
              "      <td>23.400000</td>\n",
              "      <td>51.600000</td>\n",
              "      <td>4.900000</td>\n",
              "      <td>17.800000</td>\n",
              "      <td>70.000000</td>\n",
              "      <td>20.000000</td>\n",
              "    </tr>\n",
              "    <tr>\n",
              "      <th>50%</th>\n",
              "      <td>321.000000</td>\n",
              "      <td>223.000000</td>\n",
              "      <td>202.300000</td>\n",
              "      <td>26.300000</td>\n",
              "      <td>62.300000</td>\n",
              "      <td>6.400000</td>\n",
              "      <td>21.000000</td>\n",
              "      <td>80.000000</td>\n",
              "      <td>26.000000</td>\n",
              "    </tr>\n",
              "    <tr>\n",
              "      <th>75%</th>\n",
              "      <td>355.000000</td>\n",
              "      <td>276.000000</td>\n",
              "      <td>220.500000</td>\n",
              "      <td>29.100000</td>\n",
              "      <td>76.400000</td>\n",
              "      <td>21.100000</td>\n",
              "      <td>23.400000</td>\n",
              "      <td>90.000000</td>\n",
              "      <td>30.000000</td>\n",
              "    </tr>\n",
              "    <tr>\n",
              "      <th>max</th>\n",
              "      <td>406.000000</td>\n",
              "      <td>432.000000</td>\n",
              "      <td>334.600000</td>\n",
              "      <td>33.300000</td>\n",
              "      <td>150.500000</td>\n",
              "      <td>36.400000</td>\n",
              "      <td>35.700000</td>\n",
              "      <td>120.000000</td>\n",
              "      <td>51.000000</td>\n",
              "    </tr>\n",
              "  </tbody>\n",
              "</table>\n",
              "</div>"
            ],
            "text/plain": [
              "         calories      sodium     calcium  ...  proteines  cholesterol  magnesium\n",
              "count   29.000000   29.000000   29.000000  ...  29.000000    29.000000  29.000000\n",
              "mean   300.034483  210.086207  185.734483  ...  20.168966    74.586207  26.965517\n",
              "std     91.914356  108.678923   72.528882  ...   6.959788    28.245755  11.318388\n",
              "min     70.000000   22.000000   72.600000  ...   4.100000    10.000000  10.000000\n",
              "25%    292.000000  140.000000  132.900000  ...  17.800000    70.000000  20.000000\n",
              "50%    321.000000  223.000000  202.300000  ...  21.000000    80.000000  26.000000\n",
              "75%    355.000000  276.000000  220.500000  ...  23.400000    90.000000  30.000000\n",
              "max    406.000000  432.000000  334.600000  ...  35.700000   120.000000  51.000000\n",
              "\n",
              "[8 rows x 9 columns]"
            ]
          },
          "metadata": {},
          "execution_count": 234
        }
      ]
    },
    {
      "cell_type": "markdown",
      "metadata": {
        "id": "tofyWQ34e9NV"
      },
      "source": [
        "3) Visualiser vos données (scatterplots, pairplots, étude de corrélation). Que remarquez-vous?"
      ]
    },
    {
      "cell_type": "code",
      "metadata": {
        "id": "AS3BLOdX0-Sp",
        "colab": {
          "base_uri": "https://localhost:8080/",
          "height": 279
        },
        "outputId": "0efc218c-3dcf-4070-b798-f162c68ea17a"
      },
      "source": [
        "import seaborn as sns\n",
        "import matplotlib.pyplot as plt\n",
        "\n",
        "#scatterplot\n",
        "\n",
        "sns.scatterplot(data = df,\n",
        "                x = df['calories'],\n",
        "                y = df['Fromages'],\n",
        "                color = 'royalblue')\n",
        "plt.show()\n",
        "\n"
      ],
      "execution_count": null,
      "outputs": [
        {
          "output_type": "display_data",
          "data": {
            "image/png": "[encoded data removed]",
            "text/plain": [
              "<Figure size 432x288 with 1 Axes>"
            ]
          },
          "metadata": {
            "needs_background": "light"
          }
        }
      ]
    },
    {
      "cell_type": "code",
      "metadata": {
        "colab": {
          "base_uri": "https://localhost:8080/",
          "height": 279
        },
        "id": "o7hLMJuSP3Fh",
        "outputId": "dba17f42-87b5-4b60-dedc-f04c3c0d46e7"
      },
      "source": [
        "sns.scatterplot(data = df,\n",
        "                x = df['calcium'],\n",
        "                y = df['proteines'],\n",
        "                color = 'royalblue')\n",
        "plt.show()\n",
        "\n"
      ],
      "execution_count": null,
      "outputs": [
        {
          "output_type": "display_data",
          "data": {
            "image/png": "[encoded data removed]",
            "text/plain": [
              "<Figure size 432x288 with 1 Axes>"
            ]
          },
          "metadata": {
            "needs_background": "light"
          }
        }
      ]
    },
    {
      "cell_type": "code",
      "metadata": {
        "colab": {
          "base_uri": "https://localhost:8080/",
          "height": 279
        },
        "id": "kkEUHYjxQCxy",
        "outputId": "195a11b8-5d41-4c2d-abb9-ad6409d45165"
      },
      "source": [
        "sns.scatterplot(data = df,\n",
        "                x = df['calcium'],\n",
        "                y = df['magnesium'],\n",
        "                color = 'royalblue')\n",
        "plt.show()"
      ],
      "execution_count": null,
      "outputs": [
        {
          "output_type": "display_data",
          "data": {
            "image/png": "[encoded data removed]",
            "text/plain": [
              "<Figure size 432x288 with 1 Axes>"
            ]
          },
          "metadata": {
            "needs_background": "light"
          }
        }
      ]
    },
    {
      "cell_type": "code",
      "metadata": {
        "colab": {
          "base_uri": "https://localhost:8080/",
          "height": 279
        },
        "id": "VlFhyIMmQYca",
        "outputId": "56fad04d-627c-44ab-b1dd-372bdf6e6865"
      },
      "source": [
        "sns.scatterplot(data = df,\n",
        "                x = df['folates'],\n",
        "                y = df['magnesium'],\n",
        "                color = 'royalblue')\n",
        "plt.show()"
      ],
      "execution_count": null,
      "outputs": [
        {
          "output_type": "display_data",
          "data": {
            "image/png": "[encoded data removed]",
            "text/plain": [
              "<Figure size 432x288 with 1 Axes>"
            ]
          },
          "metadata": {
            "needs_background": "light"
          }
        }
      ]
    },
    {
      "cell_type": "code",
      "metadata": {
        "colab": {
          "base_uri": "https://localhost:8080/",
          "height": 279
        },
        "id": "fyic-ac8QhWG",
        "outputId": "24d3dda6-f73b-4b51-acd4-35f5d7936a60"
      },
      "source": [
        "sns.scatterplot(data = df,\n",
        "                x = df['calories'],\n",
        "                y = df['cholesterol'],\n",
        "                color = 'royalblue')\n",
        "plt.show()"
      ],
      "execution_count": null,
      "outputs": [
        {
          "output_type": "display_data",
          "data": {
            "image/png": "[encoded data removed]",
            "text/plain": [
              "<Figure size 432x288 with 1 Axes>"
            ]
          },
          "metadata": {
            "needs_background": "light"
          }
        }
      ]
    },
    {
      "cell_type": "code",
      "metadata": {
        "colab": {
          "base_uri": "https://localhost:8080/",
          "height": 1000
        },
        "id": "NUMWvDOwPCNl",
        "outputId": "4187b1f4-1737-4087-c39b-e135dbbfa33a"
      },
      "source": [
        "sns.pairplot(df)\n",
        "plt.show()"
      ],
      "execution_count": null,
      "outputs": [
        {
          "output_type": "display_data",
          "data": {
            "image/png": "[encoded data removed]",
            "text/plain": [
              "<Figure size 1620x1620 with 90 Axes>"
            ]
          },
          "metadata": {
            "needs_background": "light"
          }
        }
      ]
    },
    {
      "cell_type": "markdown",
      "metadata": {
        "id": "Q02Wm6Vcf1Ej"
      },
      "source": [
        "4) Mettre la colonne 'Fromages' en index du dataframe"
      ]
    },
    {
      "cell_type": "code",
      "metadata": {
        "id": "9aCUcMiVTlLg",
        "colab": {
          "base_uri": "https://localhost:8080/",
          "height": 990
        },
        "outputId": "6014af2a-125a-4f05-a670-6f9f0802b8ca"
      },
      "source": [
        "df_new = df.set_index('Fromages')\n",
        "df_new\n"
      ],
      "execution_count": null,
      "outputs": [
        {
          "output_type": "execute_result",
          "data": {
            "text/html": [
              "<div>\n",
              "<style scoped>\n",
              "    .dataframe tbody tr th:only-of-type {\n",
              "        vertical-align: middle;\n",
              "    }\n",
              "\n",
              "    .dataframe tbody tr th {\n",
              "        vertical-align: top;\n",
              "    }\n",
              "\n",
              "    .dataframe thead th {\n",
              "        text-align: right;\n",
              "    }\n",
              "</style>\n",
              "<table border=\"1\" class=\"dataframe\">\n",
              "  <thead>\n",
              "    <tr style=\"text-align: right;\">\n",
              "      <th></th>\n",
              "      <th>calories</th>\n",
              "      <th>sodium</th>\n",
              "      <th>calcium</th>\n",
              "      <th>lipides</th>\n",
              "      <th>retinol</th>\n",
              "      <th>folates</th>\n",
              "      <th>proteines</th>\n",
              "      <th>cholesterol</th>\n",
              "      <th>magnesium</th>\n",
              "    </tr>\n",
              "    <tr>\n",
              "      <th>Fromages</th>\n",
              "      <th></th>\n",
              "      <th></th>\n",
              "      <th></th>\n",
              "      <th></th>\n",
              "      <th></th>\n",
              "      <th></th>\n",
              "      <th></th>\n",
              "      <th></th>\n",
              "      <th></th>\n",
              "    </tr>\n",
              "  </thead>\n",
              "  <tbody>\n",
              "    <tr>\n",
              "      <th>CarredelEst</th>\n",
              "      <td>314</td>\n",
              "      <td>353.5</td>\n",
              "      <td>72.6</td>\n",
              "      <td>26.3</td>\n",
              "      <td>51.6</td>\n",
              "      <td>30.3</td>\n",
              "      <td>21.0</td>\n",
              "      <td>70</td>\n",
              "      <td>20</td>\n",
              "    </tr>\n",
              "    <tr>\n",
              "      <th>Babybel</th>\n",
              "      <td>314</td>\n",
              "      <td>238.0</td>\n",
              "      <td>209.8</td>\n",
              "      <td>25.1</td>\n",
              "      <td>63.7</td>\n",
              "      <td>6.4</td>\n",
              "      <td>22.6</td>\n",
              "      <td>70</td>\n",
              "      <td>27</td>\n",
              "    </tr>\n",
              "    <tr>\n",
              "      <th>Beaufort</th>\n",
              "      <td>401</td>\n",
              "      <td>112.0</td>\n",
              "      <td>259.4</td>\n",
              "      <td>33.3</td>\n",
              "      <td>54.9</td>\n",
              "      <td>1.2</td>\n",
              "      <td>26.6</td>\n",
              "      <td>120</td>\n",
              "      <td>41</td>\n",
              "    </tr>\n",
              "    <tr>\n",
              "      <th>Bleu</th>\n",
              "      <td>342</td>\n",
              "      <td>336.0</td>\n",
              "      <td>211.1</td>\n",
              "      <td>28.9</td>\n",
              "      <td>37.1</td>\n",
              "      <td>27.5</td>\n",
              "      <td>20.2</td>\n",
              "      <td>90</td>\n",
              "      <td>27</td>\n",
              "    </tr>\n",
              "    <tr>\n",
              "      <th>Camembert</th>\n",
              "      <td>264</td>\n",
              "      <td>314.0</td>\n",
              "      <td>215.9</td>\n",
              "      <td>19.5</td>\n",
              "      <td>103.0</td>\n",
              "      <td>36.4</td>\n",
              "      <td>23.4</td>\n",
              "      <td>60</td>\n",
              "      <td>20</td>\n",
              "    </tr>\n",
              "    <tr>\n",
              "      <th>Cantal</th>\n",
              "      <td>367</td>\n",
              "      <td>256.0</td>\n",
              "      <td>264.0</td>\n",
              "      <td>28.8</td>\n",
              "      <td>48.8</td>\n",
              "      <td>5.7</td>\n",
              "      <td>23.0</td>\n",
              "      <td>90</td>\n",
              "      <td>30</td>\n",
              "    </tr>\n",
              "    <tr>\n",
              "      <th>Chabichou</th>\n",
              "      <td>344</td>\n",
              "      <td>192.0</td>\n",
              "      <td>87.2</td>\n",
              "      <td>27.9</td>\n",
              "      <td>90.1</td>\n",
              "      <td>36.3</td>\n",
              "      <td>19.5</td>\n",
              "      <td>80</td>\n",
              "      <td>36</td>\n",
              "    </tr>\n",
              "    <tr>\n",
              "      <th>Chaource</th>\n",
              "      <td>292</td>\n",
              "      <td>276.0</td>\n",
              "      <td>132.9</td>\n",
              "      <td>25.4</td>\n",
              "      <td>116.4</td>\n",
              "      <td>32.5</td>\n",
              "      <td>17.8</td>\n",
              "      <td>70</td>\n",
              "      <td>25</td>\n",
              "    </tr>\n",
              "    <tr>\n",
              "      <th>Cheddar</th>\n",
              "      <td>406</td>\n",
              "      <td>172.0</td>\n",
              "      <td>182.3</td>\n",
              "      <td>32.5</td>\n",
              "      <td>76.4</td>\n",
              "      <td>4.9</td>\n",
              "      <td>26.0</td>\n",
              "      <td>110</td>\n",
              "      <td>28</td>\n",
              "    </tr>\n",
              "    <tr>\n",
              "      <th>Comte</th>\n",
              "      <td>399</td>\n",
              "      <td>92.0</td>\n",
              "      <td>220.5</td>\n",
              "      <td>32.4</td>\n",
              "      <td>55.9</td>\n",
              "      <td>1.3</td>\n",
              "      <td>29.2</td>\n",
              "      <td>120</td>\n",
              "      <td>51</td>\n",
              "    </tr>\n",
              "    <tr>\n",
              "      <th>Coulomniers</th>\n",
              "      <td>308</td>\n",
              "      <td>222.0</td>\n",
              "      <td>79.2</td>\n",
              "      <td>25.6</td>\n",
              "      <td>63.6</td>\n",
              "      <td>21.1</td>\n",
              "      <td>20.5</td>\n",
              "      <td>80</td>\n",
              "      <td>13</td>\n",
              "    </tr>\n",
              "    <tr>\n",
              "      <th>Edam</th>\n",
              "      <td>327</td>\n",
              "      <td>148.0</td>\n",
              "      <td>272.2</td>\n",
              "      <td>24.7</td>\n",
              "      <td>65.7</td>\n",
              "      <td>5.5</td>\n",
              "      <td>24.7</td>\n",
              "      <td>80</td>\n",
              "      <td>44</td>\n",
              "    </tr>\n",
              "    <tr>\n",
              "      <th>Emmental</th>\n",
              "      <td>378</td>\n",
              "      <td>60.0</td>\n",
              "      <td>308.2</td>\n",
              "      <td>29.4</td>\n",
              "      <td>56.3</td>\n",
              "      <td>2.4</td>\n",
              "      <td>29.4</td>\n",
              "      <td>110</td>\n",
              "      <td>45</td>\n",
              "    </tr>\n",
              "    <tr>\n",
              "      <th>Fr.chevrepatemolle</th>\n",
              "      <td>206</td>\n",
              "      <td>160.0</td>\n",
              "      <td>72.8</td>\n",
              "      <td>18.5</td>\n",
              "      <td>150.5</td>\n",
              "      <td>31.0</td>\n",
              "      <td>11.1</td>\n",
              "      <td>50</td>\n",
              "      <td>16</td>\n",
              "    </tr>\n",
              "    <tr>\n",
              "      <th>Fr.fondu.45</th>\n",
              "      <td>292</td>\n",
              "      <td>390.0</td>\n",
              "      <td>168.5</td>\n",
              "      <td>24.0</td>\n",
              "      <td>77.4</td>\n",
              "      <td>5.5</td>\n",
              "      <td>16.8</td>\n",
              "      <td>70</td>\n",
              "      <td>20</td>\n",
              "    </tr>\n",
              "    <tr>\n",
              "      <th>Fr.frais20nat.</th>\n",
              "      <td>80</td>\n",
              "      <td>41.0</td>\n",
              "      <td>146.3</td>\n",
              "      <td>3.5</td>\n",
              "      <td>50.0</td>\n",
              "      <td>20.0</td>\n",
              "      <td>8.3</td>\n",
              "      <td>10</td>\n",
              "      <td>11</td>\n",
              "    </tr>\n",
              "    <tr>\n",
              "      <th>Fr.frais40nat.</th>\n",
              "      <td>115</td>\n",
              "      <td>25.0</td>\n",
              "      <td>94.8</td>\n",
              "      <td>7.8</td>\n",
              "      <td>64.3</td>\n",
              "      <td>22.6</td>\n",
              "      <td>7.0</td>\n",
              "      <td>30</td>\n",
              "      <td>10</td>\n",
              "    </tr>\n",
              "    <tr>\n",
              "      <th>Maroilles</th>\n",
              "      <td>338</td>\n",
              "      <td>311.0</td>\n",
              "      <td>236.7</td>\n",
              "      <td>29.1</td>\n",
              "      <td>46.7</td>\n",
              "      <td>3.6</td>\n",
              "      <td>20.4</td>\n",
              "      <td>90</td>\n",
              "      <td>40</td>\n",
              "    </tr>\n",
              "    <tr>\n",
              "      <th>Morbier</th>\n",
              "      <td>347</td>\n",
              "      <td>285.0</td>\n",
              "      <td>219.0</td>\n",
              "      <td>29.5</td>\n",
              "      <td>57.6</td>\n",
              "      <td>5.8</td>\n",
              "      <td>23.6</td>\n",
              "      <td>80</td>\n",
              "      <td>30</td>\n",
              "    </tr>\n",
              "    <tr>\n",
              "      <th>Parmesan</th>\n",
              "      <td>381</td>\n",
              "      <td>240.0</td>\n",
              "      <td>334.6</td>\n",
              "      <td>27.5</td>\n",
              "      <td>90.0</td>\n",
              "      <td>5.2</td>\n",
              "      <td>35.7</td>\n",
              "      <td>80</td>\n",
              "      <td>46</td>\n",
              "    </tr>\n",
              "    <tr>\n",
              "      <th>Petitsuisse40</th>\n",
              "      <td>142</td>\n",
              "      <td>22.0</td>\n",
              "      <td>78.2</td>\n",
              "      <td>10.4</td>\n",
              "      <td>63.4</td>\n",
              "      <td>20.4</td>\n",
              "      <td>9.4</td>\n",
              "      <td>20</td>\n",
              "      <td>10</td>\n",
              "    </tr>\n",
              "    <tr>\n",
              "      <th>PontlEveque</th>\n",
              "      <td>300</td>\n",
              "      <td>223.0</td>\n",
              "      <td>156.7</td>\n",
              "      <td>23.4</td>\n",
              "      <td>53.0</td>\n",
              "      <td>4.0</td>\n",
              "      <td>21.1</td>\n",
              "      <td>70</td>\n",
              "      <td>22</td>\n",
              "    </tr>\n",
              "    <tr>\n",
              "      <th>Pyrenees</th>\n",
              "      <td>355</td>\n",
              "      <td>232.0</td>\n",
              "      <td>178.9</td>\n",
              "      <td>28.0</td>\n",
              "      <td>51.5</td>\n",
              "      <td>6.8</td>\n",
              "      <td>22.4</td>\n",
              "      <td>90</td>\n",
              "      <td>25</td>\n",
              "    </tr>\n",
              "    <tr>\n",
              "      <th>Reblochon</th>\n",
              "      <td>309</td>\n",
              "      <td>272.0</td>\n",
              "      <td>202.3</td>\n",
              "      <td>24.6</td>\n",
              "      <td>73.1</td>\n",
              "      <td>8.1</td>\n",
              "      <td>19.7</td>\n",
              "      <td>80</td>\n",
              "      <td>30</td>\n",
              "    </tr>\n",
              "    <tr>\n",
              "      <th>Rocquefort</th>\n",
              "      <td>370</td>\n",
              "      <td>432.0</td>\n",
              "      <td>162.0</td>\n",
              "      <td>31.2</td>\n",
              "      <td>83.5</td>\n",
              "      <td>13.3</td>\n",
              "      <td>18.7</td>\n",
              "      <td>100</td>\n",
              "      <td>25</td>\n",
              "    </tr>\n",
              "    <tr>\n",
              "      <th>SaintPaulin</th>\n",
              "      <td>298</td>\n",
              "      <td>205.0</td>\n",
              "      <td>261.0</td>\n",
              "      <td>23.3</td>\n",
              "      <td>60.4</td>\n",
              "      <td>6.7</td>\n",
              "      <td>23.3</td>\n",
              "      <td>70</td>\n",
              "      <td>26</td>\n",
              "    </tr>\n",
              "    <tr>\n",
              "      <th>Tome</th>\n",
              "      <td>321</td>\n",
              "      <td>252.0</td>\n",
              "      <td>125.5</td>\n",
              "      <td>27.3</td>\n",
              "      <td>62.3</td>\n",
              "      <td>6.2</td>\n",
              "      <td>21.8</td>\n",
              "      <td>80</td>\n",
              "      <td>20</td>\n",
              "    </tr>\n",
              "    <tr>\n",
              "      <th>Vacherin</th>\n",
              "      <td>321</td>\n",
              "      <td>140.0</td>\n",
              "      <td>218.0</td>\n",
              "      <td>29.3</td>\n",
              "      <td>49.2</td>\n",
              "      <td>3.7</td>\n",
              "      <td>17.6</td>\n",
              "      <td>80</td>\n",
              "      <td>30</td>\n",
              "    </tr>\n",
              "    <tr>\n",
              "      <th>Yaourtlaitent.nat.</th>\n",
              "      <td>70</td>\n",
              "      <td>91.0</td>\n",
              "      <td>215.7</td>\n",
              "      <td>3.4</td>\n",
              "      <td>42.9</td>\n",
              "      <td>2.9</td>\n",
              "      <td>4.1</td>\n",
              "      <td>13</td>\n",
              "      <td>14</td>\n",
              "    </tr>\n",
              "  </tbody>\n",
              "</table>\n",
              "</div>"
            ],
            "text/plain": [
              "                    calories  sodium  ...  cholesterol  magnesium\n",
              "Fromages                              ...                        \n",
              "CarredelEst              314   353.5  ...           70         20\n",
              "Babybel                  314   238.0  ...           70         27\n",
              "Beaufort                 401   112.0  ...          120         41\n",
              "Bleu                     342   336.0  ...           90         27\n",
              "Camembert                264   314.0  ...           60         20\n",
              "Cantal                   367   256.0  ...           90         30\n",
              "Chabichou                344   192.0  ...           80         36\n",
              "Chaource                 292   276.0  ...           70         25\n",
              "Cheddar                  406   172.0  ...          110         28\n",
              "Comte                    399    92.0  ...          120         51\n",
              "Coulomniers              308   222.0  ...           80         13\n",
              "Edam                     327   148.0  ...           80         44\n",
              "Emmental                 378    60.0  ...          110         45\n",
              "Fr.chevrepatemolle       206   160.0  ...           50         16\n",
              "Fr.fondu.45              292   390.0  ...           70         20\n",
              "Fr.frais20nat.            80    41.0  ...           10         11\n",
              "Fr.frais40nat.           115    25.0  ...           30         10\n",
              "Maroilles                338   311.0  ...           90         40\n",
              "Morbier                  347   285.0  ...           80         30\n",
              "Parmesan                 381   240.0  ...           80         46\n",
              "Petitsuisse40            142    22.0  ...           20         10\n",
              "PontlEveque              300   223.0  ...           70         22\n",
              "Pyrenees                 355   232.0  ...           90         25\n",
              "Reblochon                309   272.0  ...           80         30\n",
              "Rocquefort               370   432.0  ...          100         25\n",
              "SaintPaulin              298   205.0  ...           70         26\n",
              "Tome                     321   252.0  ...           80         20\n",
              "Vacherin                 321   140.0  ...           80         30\n",
              "Yaourtlaitent.nat.        70    91.0  ...           13         14\n",
              "\n",
              "[29 rows x 9 columns]"
            ]
          },
          "metadata": {},
          "execution_count": 4
        }
      ]
    },
    {
      "cell_type": "code",
      "metadata": {
        "id": "yeOVFGGjT3Ag",
        "colab": {
          "base_uri": "https://localhost:8080/"
        },
        "outputId": "c4411692-c7e9-41e5-9487-3e280ce5cf65"
      },
      "source": [
        "X = df_new.iloc[:,:-1].values\n",
        "\n",
        "X"
      ],
      "execution_count": null,
      "outputs": [
        {
          "output_type": "execute_result",
          "data": {
            "text/plain": [
              "array([[314. , 353.5,  72.6,  26.3,  51.6,  30.3,  21. ,  70. ],\n",
              "       [314. , 238. , 209.8,  25.1,  63.7,   6.4,  22.6,  70. ],\n",
              "       [401. , 112. , 259.4,  33.3,  54.9,   1.2,  26.6, 120. ],\n",
              "       [342. , 336. , 211.1,  28.9,  37.1,  27.5,  20.2,  90. ],\n",
              "       [264. , 314. , 215.9,  19.5, 103. ,  36.4,  23.4,  60. ],\n",
              "       [367. , 256. , 264. ,  28.8,  48.8,   5.7,  23. ,  90. ],\n",
              "       [344. , 192. ,  87.2,  27.9,  90.1,  36.3,  19.5,  80. ],\n",
              "       [292. , 276. , 132.9,  25.4, 116.4,  32.5,  17.8,  70. ],\n",
              "       [406. , 172. , 182.3,  32.5,  76.4,   4.9,  26. , 110. ],\n",
              "       [399. ,  92. , 220.5,  32.4,  55.9,   1.3,  29.2, 120. ],\n",
              "       [308. , 222. ,  79.2,  25.6,  63.6,  21.1,  20.5,  80. ],\n",
              "       [327. , 148. , 272.2,  24.7,  65.7,   5.5,  24.7,  80. ],\n",
              "       [378. ,  60. , 308.2,  29.4,  56.3,   2.4,  29.4, 110. ],\n",
              "       [206. , 160. ,  72.8,  18.5, 150.5,  31. ,  11.1,  50. ],\n",
              "       [292. , 390. , 168.5,  24. ,  77.4,   5.5,  16.8,  70. ],\n",
              "       [ 80. ,  41. , 146.3,   3.5,  50. ,  20. ,   8.3,  10. ],\n",
              "       [115. ,  25. ,  94.8,   7.8,  64.3,  22.6,   7. ,  30. ],\n",
              "       [338. , 311. , 236.7,  29.1,  46.7,   3.6,  20.4,  90. ],\n",
              "       [347. , 285. , 219. ,  29.5,  57.6,   5.8,  23.6,  80. ],\n",
              "       [381. , 240. , 334.6,  27.5,  90. ,   5.2,  35.7,  80. ],\n",
              "       [142. ,  22. ,  78.2,  10.4,  63.4,  20.4,   9.4,  20. ],\n",
              "       [300. , 223. , 156.7,  23.4,  53. ,   4. ,  21.1,  70. ],\n",
              "       [355. , 232. , 178.9,  28. ,  51.5,   6.8,  22.4,  90. ],\n",
              "       [309. , 272. , 202.3,  24.6,  73.1,   8.1,  19.7,  80. ],\n",
              "       [370. , 432. , 162. ,  31.2,  83.5,  13.3,  18.7, 100. ],\n",
              "       [298. , 205. , 261. ,  23.3,  60.4,   6.7,  23.3,  70. ],\n",
              "       [321. , 252. , 125.5,  27.3,  62.3,   6.2,  21.8,  80. ],\n",
              "       [321. , 140. , 218. ,  29.3,  49.2,   3.7,  17.6,  80. ],\n",
              "       [ 70. ,  91. , 215.7,   3.4,  42.9,   2.9,   4.1,  13. ]])"
            ]
          },
          "metadata": {},
          "execution_count": 71
        }
      ]
    },
    {
      "cell_type": "markdown",
      "metadata": {
        "id": "fipKFfrxzcmr"
      },
      "source": [
        "## Preprocessing"
      ]
    },
    {
      "cell_type": "markdown",
      "metadata": {
        "id": "mWqsPD2YgBgd"
      },
      "source": [
        "5) Standardiser les données afin quelles soient toutes à la même échelle <br />\n",
        "<i>Aide: [How and why to Standardize your data](https://towardsdatascience.com/how-and-why-to-standardize-your-data-996926c2c832)</i>"
      ]
    },
    {
      "cell_type": "code",
      "metadata": {
        "colab": {
          "base_uri": "https://localhost:8080/"
        },
        "id": "geRN4XxDY1aL",
        "outputId": "6179a468-4975-4fc0-86c5-968199bf65fa"
      },
      "source": [
        "Z = (X - X.mean(axis=0))/X.std(axis=0)\n",
        "print(Z)"
      ],
      "execution_count": null,
      "outputs": [
        {
          "output_type": "stream",
          "name": "stdout",
          "text": [
            "[[ 1.54629966e-01  1.34296773e+00 -1.58746440e+00  2.68066256e-01\n",
            "  -6.72289850e-01  1.50091119e+00  1.21518677e-01 -1.65242000e-01]\n",
            " [ 1.54629966e-01  2.61392734e-01  3.37679113e-01  1.17845552e-01\n",
            "  -1.62662483e-01 -5.73842591e-01  3.55479948e-01 -1.65242000e-01]\n",
            " [ 1.11791739e+00 -9.18507266e-01  1.03364936e+00  1.14435370e+00\n",
            "  -5.33300568e-01 -1.02525346e+00  9.40383125e-01  1.63626853e+00]\n",
            " [ 4.64653504e-01  1.17909273e+00  3.55920269e-01  5.93544448e-01\n",
            "  -1.28300033e+00  1.25784380e+00  4.53804189e-03  5.55362210e-01]\n",
            " [-3.98983494e-01  9.73078448e-01  4.23272229e-01 -5.83184399e-01\n",
            "   1.49257351e+00  2.03045086e+00  4.72460583e-01 -5.25544105e-01]\n",
            " [ 7.41460234e-01  4.29949877e-01  1.09819499e+00  5.81026056e-01\n",
            "  -7.90220150e-01 -6.34609438e-01  4.13970266e-01  5.55362210e-01]\n",
            " [ 4.86798043e-01 -1.69364409e-01 -1.38260219e+00  4.68360528e-01\n",
            "   9.49251773e-01  2.02176988e+00 -9.78200141e-02  1.95060105e-01]\n",
            " [-8.89599560e-02  6.17235591e-01 -7.41355405e-01  1.55400728e-01\n",
            "   2.05695423e+00  1.69189271e+00 -3.46403864e-01 -1.65242000e-01]\n",
            " [ 1.17327873e+00 -3.56650123e-01 -4.81914883e-02  1.04420656e+00\n",
            "   3.72235663e-01 -7.04057263e-01  8.52647648e-01  1.27596642e+00]\n",
            " [ 1.09577285e+00 -1.10579298e+00  4.87817857e-01  1.03168817e+00\n",
            "  -4.91182604e-01 -1.01657248e+00  1.32057019e+00  1.63626853e+00]\n",
            " [ 8.81963513e-02  1.11564163e-01 -1.49485545e+00  1.80437512e-01\n",
            "  -1.66874279e-01  7.02261199e-01  4.84057802e-02  1.95060105e-01]\n",
            " [ 2.98569466e-01 -5.81392980e-01  1.21325459e+00  6.77719842e-02\n",
            "  -7.84265541e-02 -6.51971394e-01  6.62554116e-01  1.95060105e-01]\n",
            " [ 8.63255196e-01 -1.40545012e+00  1.71839428e+00  6.56136408e-01\n",
            "  -4.74335418e-01 -9.21081717e-01  1.34981535e+00  1.27596642e+00]\n",
            " [-1.04117511e+00 -4.69021552e-01 -1.58465807e+00 -7.08368319e-01\n",
            "   3.49317681e+00  1.56167804e+00 -1.32611669e+00 -8.85846210e-01]\n",
            " [-8.89599560e-02  1.68476416e+00 -2.41828372e-01 -1.98567597e-02\n",
            "   4.14353627e-01 -6.51971394e-01 -4.92629658e-01 -1.65242000e-01]\n",
            " [-2.43628103e+00 -1.58337155e+00 -5.53331185e-01 -2.58612712e+00\n",
            "  -7.39678593e-01  6.06770439e-01 -1.73554891e+00 -2.32705463e+00]\n",
            " [-2.04875161e+00 -1.73320012e+00 -1.27596158e+00 -2.04783626e+00\n",
            "  -1.37391704e-01  8.32475871e-01 -1.92564244e+00 -1.60645042e+00]\n",
            " [ 4.20364427e-01  9.44985591e-01  7.15130720e-01  6.18581232e-01\n",
            "  -8.78667875e-01 -8.16909979e-01  3.37832007e-02  5.55362210e-01]\n",
            " [ 5.20014850e-01  7.01514163e-01  4.66770369e-01  6.68654800e-01\n",
            "  -4.19582064e-01 -6.25928460e-01  5.01705742e-01  1.95060105e-01]\n",
            " [ 8.96472003e-01  2.80121305e-01  2.08883006e+00  4.18286960e-01\n",
            "   9.45039977e-01 -6.78014329e-01  2.27103785e+00  1.95060105e-01]\n",
            " [-1.74980034e+00 -1.76129298e+00 -1.50888711e+00 -1.72235807e+00\n",
            "  -1.75297872e-01  6.41494352e-01 -1.57470054e+00 -1.96675253e+00]\n",
            " [-3.81802386e-04  1.20928448e-01 -4.07401939e-01 -9.49671117e-02\n",
            "  -6.13324700e-01 -7.82186067e-01  1.36141257e-01 -1.65242000e-01]\n",
            " [ 6.08593004e-01  2.05207020e-01 -9.58991263e-02  4.80878920e-01\n",
            "  -6.76501646e-01 -5.39118678e-01  3.26234789e-01  5.55362210e-01]\n",
            " [ 9.92686205e-02  5.79778448e-01  2.32441677e-01  5.52535922e-02\n",
            "   2.33246381e-01 -4.26265962e-01 -6.85748552e-02  1.95060105e-01]\n",
            " [ 7.74677042e-01  2.07806416e+00 -3.33034151e-01  8.81467464e-01\n",
            "   6.71273209e-01  2.51449023e-02 -2.14800649e-01  9.15664316e-01]\n",
            " [-2.25263408e-02 -4.76286946e-02  1.05610002e+00 -1.07485504e-01\n",
            "  -3.01651765e-01 -5.47799656e-01  4.57838004e-01 -1.65242000e-01]\n",
            " [ 2.32135851e-01  3.92492734e-01 -8.45189676e-01  3.93250176e-01\n",
            "  -2.21627632e-01 -5.91204547e-01  2.38499313e-01  1.95060105e-01]\n",
            " [ 2.32135851e-01 -6.56307266e-01  4.52738711e-01  6.43618016e-01\n",
            "  -7.73372964e-01 -8.08229001e-01 -3.75649023e-01  1.95060105e-01]\n",
            " [-2.54700372e+00 -1.11515727e+00  4.20465897e-01 -2.59864551e+00\n",
            "  -1.03871614e+00 -8.77676826e-01 -2.34969725e+00 -2.21896400e+00]]\n"
          ]
        }
      ]
    },
    {
      "cell_type": "code",
      "metadata": {
        "colab": {
          "base_uri": "https://localhost:8080/"
        },
        "id": "UWlYqcOsoAk9",
        "outputId": "2737f855-bc3f-468e-8c99-339adb0cfd15"
      },
      "source": [
        "Z.mean(axis = 0)"
      ],
      "execution_count": null,
      "outputs": [
        {
          "output_type": "execute_result",
          "data": {
            "text/plain": [
              "array([-1.07193947e-16,  7.65671051e-17,  5.55111512e-17,  8.11611315e-16,\n",
              "       -3.06268421e-17,  1.11022302e-16,  1.07193947e-16, -2.29701315e-16])"
            ]
          },
          "metadata": {},
          "execution_count": 73
        }
      ]
    },
    {
      "cell_type": "code",
      "metadata": {
        "colab": {
          "base_uri": "https://localhost:8080/"
        },
        "id": "7CLdosv-oG9D",
        "outputId": "826717d5-1920-4c18-b4ce-ab3f44a18e2a"
      },
      "source": [
        "Z.std(axis = 0)"
      ],
      "execution_count": null,
      "outputs": [
        {
          "output_type": "execute_result",
          "data": {
            "text/plain": [
              "array([1., 1., 1., 1., 1., 1., 1., 1.])"
            ]
          },
          "metadata": {},
          "execution_count": 74
        }
      ]
    },
    {
      "cell_type": "code",
      "metadata": {
        "colab": {
          "base_uri": "https://localhost:8080/",
          "height": 364
        },
        "id": "TLeFYmmvRlnZ",
        "outputId": "b892f99d-0e10-4a87-e2ef-2b4df7de00ee"
      },
      "source": [
        "plt.scatter(Z[:,0],Z[:,1], label='True Position')"
      ],
      "execution_count": null,
      "outputs": [
        {
          "output_type": "execute_result",
          "data": {
            "text/plain": [
              "<matplotlib.collections.PathCollection at 0x7f041391ec90>"
            ]
          },
          "metadata": {},
          "execution_count": 149
        },
        {
          "output_type": "display_data",
          "data": {
            "image/png": "[encoded data removed]",
            "text/plain": [
              "<Figure size 576x396 with 1 Axes>"
            ]
          },
          "metadata": {}
        }
      ]
    },
    {
      "cell_type": "markdown",
      "metadata": {
        "id": "y1vGXdK-zWKS"
      },
      "source": [
        "## ML Clustering - KMeans"
      ]
    },
    {
      "cell_type": "markdown",
      "metadata": {
        "id": "PiazBxG8kTLL"
      },
      "source": [
        "6) Entraîner un premier modèle des 'Kmeans' avec n_clusters = 5 et analyser vos prédictions. Visualiser vos clusters. Cela vous semble-t-il correct? <br />\n",
        "<i>Aide: [K-Means Clustering with Scikit-Learn\n",
        "](https://stackabuse.com/k-means-clustering-with-scikit-learn/)</i>"
      ]
    },
    {
      "cell_type": "code",
      "metadata": {
        "id": "G0emE87Bb1eu",
        "colab": {
          "base_uri": "https://localhost:8080/"
        },
        "outputId": "d4995f40-7dd0-46cd-cf0f-a591be8bc7ea"
      },
      "source": [
        "from sklearn import cluster\n",
        "res = cluster.KMeans(n_clusters=5)\n",
        "res.fit(Z)\n",
        "\n"
      ],
      "execution_count": null,
      "outputs": [
        {
          "output_type": "execute_result",
          "data": {
            "text/plain": [
              "KMeans(n_clusters=5)"
            ]
          },
          "metadata": {},
          "execution_count": 150
        }
      ]
    },
    {
      "cell_type": "code",
      "metadata": {
        "colab": {
          "base_uri": "https://localhost:8080/"
        },
        "id": "fF5JKrsnmw4w",
        "outputId": "b11f2d39-f72f-466e-d4a5-8ef912455459"
      },
      "source": [
        "res.labels_"
      ],
      "execution_count": null,
      "outputs": [
        {
          "output_type": "execute_result",
          "data": {
            "text/plain": [
              "array([3, 3, 3, 3, 3, 3, 3, 3, 3, 3, 3, 3, 3, 3, 3, 0, 0, 0, 0, 0, 0, 0,\n",
              "       4, 4, 4, 4, 2, 1], dtype=int32)"
            ]
          },
          "metadata": {},
          "execution_count": 151
        }
      ]
    },
    {
      "cell_type": "code",
      "metadata": {
        "id": "nMTFiRjrZwBz",
        "colab": {
          "base_uri": "https://localhost:8080/"
        },
        "outputId": "37343e59-3a35-440c-eae8-9894f6732056"
      },
      "source": [
        "import numpy as np\n",
        "np.unique(res.labels_,return_counts=True)"
      ],
      "execution_count": null,
      "outputs": [
        {
          "output_type": "execute_result",
          "data": {
            "text/plain": [
              "(array([0, 1, 2, 3, 4], dtype=int32), array([ 7,  1,  1, 15,  4]))"
            ]
          },
          "metadata": {},
          "execution_count": 152
        }
      ]
    },
    {
      "cell_type": "code",
      "metadata": {
        "id": "h3WnSrwyN0gG"
      },
      "source": [
        ""
      ],
      "execution_count": null,
      "outputs": []
    },
    {
      "cell_type": "code",
      "metadata": {
        "id": "KQWSVR4UNrg3"
      },
      "source": [
        "idk = np.argsort(res.labels_)"
      ],
      "execution_count": null,
      "outputs": []
    },
    {
      "cell_type": "code",
      "metadata": {
        "colab": {
          "base_uri": "https://localhost:8080/"
        },
        "id": "J6DgFOHuTz_H",
        "outputId": "52d87e7c-46cb-4aa9-8eff-ec1c471aecf7"
      },
      "source": [
        "#affichage des observations et leurs groupes\n",
        "print(pd.DataFrame(df_new.index[idk],res.labels_[idk]))\n"
      ],
      "execution_count": null,
      "outputs": [
        {
          "output_type": "stream",
          "name": "stdout",
          "text": [
            "             Fromages\n",
            "0         PontlEveque\n",
            "0       Petitsuisse40\n",
            "0            Parmesan\n",
            "0             Morbier\n",
            "0           Maroilles\n",
            "0      Fr.frais40nat.\n",
            "0      Fr.frais20nat.\n",
            "1            Vacherin\n",
            "2                Tome\n",
            "3         Fr.fondu.45\n",
            "3            Emmental\n",
            "3         CarredelEst\n",
            "3         Coulomniers\n",
            "3               Comte\n",
            "3             Cheddar\n",
            "3            Chaource\n",
            "3           Chabichou\n",
            "3              Cantal\n",
            "3           Camembert\n",
            "3                Bleu\n",
            "3            Beaufort\n",
            "3             Babybel\n",
            "3                Edam\n",
            "3  Fr.chevrepatemolle\n",
            "4            Pyrenees\n",
            "4           Reblochon\n",
            "4          Rocquefort\n",
            "4         SaintPaulin\n"
          ]
        }
      ]
    },
    {
      "cell_type": "code",
      "metadata": {
        "colab": {
          "base_uri": "https://localhost:8080/"
        },
        "id": "OTHUIfjxUlCi",
        "outputId": "81387cae-0ea2-4c1f-ff38-c5618c8430e9"
      },
      "source": [
        "print(res.transform(Z))"
      ],
      "execution_count": null,
      "outputs": [
        {
          "output_type": "stream",
          "name": "stdout",
          "text": [
            "[[117.19744802 793.76597442 540.25141544  33.04851364 232.46388197]\n",
            " [113.77135621 789.99195979 536.50078212  29.8082767  228.84940686]\n",
            " [114.14370124 790.03143254 536.95000386  30.1390194  229.7072665 ]\n",
            " [110.39304399 783.7103268  530.92705563  27.88310777 224.77353047]\n",
            " [100.27218647 777.34008478 523.63145456  18.9406909  215.49145985]\n",
            " [ 92.92133132 769.24796242 516.05527266  12.9921027  208.59032099]\n",
            " [ 90.71596189 767.57769934 514.16694624   6.88978519 206.37764544]\n",
            " [ 94.37701053 767.43078826 514.55859608  16.27584186 208.39390084]\n",
            " [ 79.25038615 756.62781098 502.85489544  12.854384   194.55130145]\n",
            " [ 68.28612729 745.74900306 491.86996873  22.47213542 183.38379511]\n",
            " [ 67.29321312 740.68515901 487.75488617  23.03444834 181.3700572 ]\n",
            " [ 62.29408342 738.97050165 485.50617019  22.68662732 177.74535258]\n",
            " [ 60.64752031 736.93263513 483.67068789  26.35195241 176.18771552]\n",
            " [ 57.26389608 732.77627067 479.44166116  28.65958428 172.1128023 ]\n",
            " [ 53.70868487 730.48186092 477.07298913  31.59014493 169.35049895]\n",
            " [ 38.96754502 713.20835297 459.02651169  55.78943958 150.47630332]\n",
            " [ 28.57496555 700.12361954 447.12355394  62.70811207 140.65583161]\n",
            " [ 25.88027149 692.72063941 439.86875934  72.18244844 133.87732789]\n",
            " [ 14.27359867 680.21580998 427.07509598  82.29887255 120.39291513]\n",
            " [ 24.12950412 658.2023503  404.05735656 106.53273155  95.42663499]\n",
            " [ 21.18677836 657.75617548 403.88045058 105.16960591  95.46540331]\n",
            " [ 38.04961602 643.85252897 389.6631876  121.37834608  81.05769946]\n",
            " [ 74.78011706 606.29303035 352.02696078 158.64615752  44.19744397]\n",
            " [ 88.8245566  590.18647759 337.0950632  172.41582421  36.32691234]\n",
            " [ 93.13608009 586.94715274 332.68454847 177.58653313  24.71942836]\n",
            " [210.79934293 468.71519205 214.29943655 295.08248588  94.99530144]\n",
            " [424.10144194 254.49416435   0.         507.9783073  308.72767288]\n",
            " [677.8249733    0.         254.49416435 761.35172615 562.85077781]]\n"
          ]
        }
      ]
    },
    {
      "cell_type": "code",
      "metadata": {
        "colab": {
          "base_uri": "https://localhost:8080/",
          "height": 364
        },
        "id": "DrH-MUcBQ7XH",
        "outputId": "484b7753-011c-41d8-ae25-14da20cd053a"
      },
      "source": [
        "plt.scatter(Z[:,0], Z[:,1], c=res.labels_, cmap='rainbow')\n",
        "\n"
      ],
      "execution_count": null,
      "outputs": [
        {
          "output_type": "execute_result",
          "data": {
            "text/plain": [
              "<matplotlib.collections.PathCollection at 0x7f04137a8950>"
            ]
          },
          "metadata": {},
          "execution_count": 157
        },
        {
          "output_type": "display_data",
          "data": {
            "image/png": "[encoded data removed]",
            "text/plain": [
              "<Figure size 576x396 with 1 Axes>"
            ]
          },
          "metadata": {}
        }
      ]
    },
    {
      "cell_type": "code",
      "metadata": {
        "colab": {
          "base_uri": "https://localhost:8080/",
          "height": 364
        },
        "id": "PXXO6BKiVAiC",
        "outputId": "1d51cee6-aa81-4e0f-f2a6-1e3debd0ec8b"
      },
      "source": [
        "plt.scatter(res.cluster_centers_[:,0] ,res.cluster_centers_[:,1], color='black')"
      ],
      "execution_count": null,
      "outputs": [
        {
          "output_type": "execute_result",
          "data": {
            "text/plain": [
              "<matplotlib.collections.PathCollection at 0x7f0413791710>"
            ]
          },
          "metadata": {},
          "execution_count": 158
        },
        {
          "output_type": "display_data",
          "data": {
            "image/png": "[encoded data removed]",
            "text/plain": [
              "<Figure size 576x396 with 1 Axes>"
            ]
          },
          "metadata": {}
        }
      ]
    },
    {
      "cell_type": "markdown",
      "metadata": {
        "id": "kzBBQ2tBlXFo"
      },
      "source": [
        "7) La partie ci-dessous sera dédiée à la découverte du nombre optimal de clusters afin d'améliorer notre modèle. <br /><br />\n",
        "Méthode 1: Essayer de trouver le nombre optimal de clusters grâce à la <i><b>méthode du coude</b> (Elbow method).</i> <br />\n",
        "<i>Aide: <br />[Tutorial: How to determine the optimal number of clusters for k-means clustering](https://blog.cambridgespark.com/how-to-determine-the-optimal-number-of-clusters-for-k-means-clustering-14f27070048f)<br /> [Selecting optimal number of clusters in KMeans Algorithm](https://medium.com/@jyotiyadav99111/selecting-optimal-number-of-clusters-in-kmeans-algorithm-silhouette-score-c0d9ebb11308)</i>"
      ]
    },
    {
      "cell_type": "code",
      "metadata": {
        "id": "HBxX5WRAQpEM"
      },
      "source": [
        "from sklearn.cluster import KMeans"
      ],
      "execution_count": null,
      "outputs": []
    },
    {
      "cell_type": "code",
      "metadata": {
        "colab": {
          "base_uri": "https://localhost:8080/",
          "height": 529
        },
        "id": "S9WyTYwZW3dd",
        "outputId": "8794186d-39e0-4a8f-bc8b-bd082585f373"
      },
      "source": [
        "Ks = np.arange(1, 20)\n",
        "km = [KMeans(n_clusters=i, random_state=1986) for i in Ks]\n",
        "score = [-km[i].fit(X).score(X) for i in range(len(km))]\n",
        "Ks.dtype = int\n",
        "\n",
        "\n",
        "plt.figure(figsize=(8,8))\n",
        "plt.plot(Ks,score)\n",
        "plt.xlim(0,18)\n",
        "plt.grid(True)\n",
        "plt.xlabel('K')\n",
        "plt.ylabel('Error')\n",
        "plt.title('Elbow Method')"
      ],
      "execution_count": null,
      "outputs": [
        {
          "output_type": "execute_result",
          "data": {
            "text/plain": [
              "Text(0.5, 1.0, 'Elbow Method')"
            ]
          },
          "metadata": {},
          "execution_count": 160
        },
        {
          "output_type": "display_data",
          "data": {
            "image/png": "[encoded data removed]",
            "text/plain": [
              "<Figure size 576x576 with 1 Axes>"
            ]
          },
          "metadata": {}
        }
      ]
    },
    {
      "cell_type": "markdown",
      "metadata": {
        "id": "VihKVXw6nGJ7"
      },
      "source": [
        "Méthode 2: Essayer de trouver le nombre optimal de clusters grâce au <i><b> coefficent de silhouette</b> (Silhouette score)</i> <br />\n",
        "<i>Aide: ['graphique de Silhouette' du cours](https://docs.google.com/presentation/d/1wS89cAEbrF2KHC72oVi7s--DY5q_hcld/edit#slide=id.p27)</i>"
      ]
    },
    {
      "cell_type": "code",
      "metadata": {
        "id": "6bJAzkmKVoC4",
        "colab": {
          "base_uri": "https://localhost:8080/",
          "height": 411
        },
        "outputId": "3787f571-3b91-4761-ccf0-3f3db7830ca7"
      },
      "source": [
        "#librairie pour évaluation des partitions\n",
        "from sklearn import metrics\n",
        "#utilisation de la métrique \"silhouette\"\n",
        "#faire varier le nombre de clusters de 2 à 10\n",
        "res = np.arange(9,dtype=\"double\")\n",
        "for k in np.arange(9):\n",
        "   km = cluster.KMeans(n_clusters=k+2)\n",
        "   km.fit(X)\n",
        "   res[k] = metrics.silhouette_score(X,km.labels_)\n",
        "print(res)\n",
        "#graphique\n",
        "import matplotlib.pyplot as plt\n",
        "plt.title(\"Silhouette\")\n",
        "plt.xlabel(\"# of clusters\")\n",
        "plt.plot(np.arange(2,11,1),res)\n",
        "plt.show()\n"
      ],
      "execution_count": null,
      "outputs": [
        {
          "output_type": "stream",
          "name": "stdout",
          "text": [
            "[0.50730425 0.37344429 0.32996212 0.35889565 0.3056564  0.2863881\n",
            " 0.29771962 0.28094536 0.2681495 ]\n"
          ]
        },
        {
          "output_type": "display_data",
          "data": {
            "image/png": "[encoded data removed]",
            "text/plain": [
              "<Figure size 576x396 with 1 Axes>"
            ]
          },
          "metadata": {}
        }
      ]
    },
    {
      "cell_type": "markdown",
      "metadata": {
        "id": "hp9v9WyupHPS"
      },
      "source": [
        "Entrainer de nouveau le modèle de Kmeans avec le nombre optimal de clusters que vous aurez découvert. Analyser de nouveau vos prédictions (clusters). Cela vous pourrait-il mieux?"
      ]
    },
    {
      "cell_type": "code",
      "metadata": {
        "id": "js3bGHaKphap",
        "colab": {
          "base_uri": "https://localhost:8080/"
        },
        "outputId": "5a7e498c-5688-4907-c399-4d7113f8863e"
      },
      "source": [
        "res = cluster.KMeans(n_clusters=3)\n",
        "res.fit(Z)"
      ],
      "execution_count": null,
      "outputs": [
        {
          "output_type": "execute_result",
          "data": {
            "text/plain": [
              "KMeans(n_clusters=3)"
            ]
          },
          "metadata": {},
          "execution_count": 162
        }
      ]
    },
    {
      "cell_type": "markdown",
      "metadata": {
        "id": "4anrz_Tuzzf2"
      },
      "source": [
        "Pourquoi ne pas essayer une PCA ?"
      ]
    },
    {
      "cell_type": "code",
      "metadata": {
        "id": "QfQJj3vk0xWy",
        "colab": {
          "base_uri": "https://localhost:8080/",
          "height": 364
        },
        "outputId": "431cb859-76bf-43ca-8c91-b88320f3097e"
      },
      "source": [
        "plt.scatter(Z[:,0], Z[:,1], c=res.labels_, cmap='rainbow')"
      ],
      "execution_count": null,
      "outputs": [
        {
          "output_type": "execute_result",
          "data": {
            "text/plain": [
              "<matplotlib.collections.PathCollection at 0x7f04135bff10>"
            ]
          },
          "metadata": {},
          "execution_count": 164
        },
        {
          "output_type": "display_data",
          "data": {
            "image/png": "[encoded data removed]",
            "text/plain": [
              "<Figure size 576x396 with 1 Axes>"
            ]
          },
          "metadata": {}
        }
      ]
    },
    {
      "cell_type": "markdown",
      "metadata": {
        "id": "AMmUv1B5YmyZ"
      },
      "source": [
        "## <i>Partie optionnelle</i>: \n",
        "\n",
        "Entrainer un modèle de Classification Ascendante Hiérarchique (Agglomerative Clustering), visualiser le dendrogramme, en déduire le nombre optimal de clusters de votre modélisation. <br />\n",
        "[Première partie du cours](https://docs.google.com/presentation/d/1wS89cAEbrF2KHC72oVi7s--DY5q_hcld/edit#slide=id.p1)"
      ]
    },
    {
      "cell_type": "code",
      "metadata": {
        "id": "v4k3IAP4YmF4",
        "colab": {
          "base_uri": "https://localhost:8080/",
          "height": 362
        },
        "outputId": "fd193ed4-bc56-4bc6-9b3f-e84272dc86ae"
      },
      "source": [
        "#librairies pour la CAH\n",
        "from matplotlib import pyplot as plt\n",
        "from scipy.cluster.hierarchy import dendrogram, linkage\n",
        "#générer la matrice des liens\n",
        "XXX = linkage(Z,method='ward',metric='euclidean')\n",
        "#affichage du dendrogramme\n",
        "plt.title(\"CAH\")\n",
        "dendrogram(XXX,labels=df.index,orientation='left',color_threshold=0)\n",
        "plt.show()\n"
      ],
      "execution_count": null,
      "outputs": [
        {
          "output_type": "display_data",
          "data": {
            "image/png": "[encoded data removed]",
            "text/plain": [
              "<Figure size 576x396 with 1 Axes>"
            ]
          },
          "metadata": {}
        }
      ]
    },
    {
      "cell_type": "code",
      "metadata": {
        "colab": {
          "base_uri": "https://localhost:8080/",
          "height": 900
        },
        "id": "m8UTOTaXWS0T",
        "outputId": "e4889967-c1b5-497f-f061-22066bdf7679"
      },
      "source": [
        "#matérialisation des 4 classes (hauteur t = 7)\n",
        "plt.title('CAH avec matérialisation des 4 classes')\n",
        "dendrogram(XXX,labels=df_new.index,orientation='left',color_threshold=7)\n",
        "plt.show()\n",
        "#découpage à la hauteur t = 7 ==> identifiants de 4 groupes obtenus\n",
        "groupes_cah = fcluster(XXX,t=7,criterion='distance')\n",
        "print(groupes_cah)\n",
        "#index triés des groupes\n",
        "import numpy as np\n",
        "idg = np.argsort(groupes_cah)\n",
        "#affichage des observations et leurs groupes\n",
        "print(pd.DataFrame(df_new.index[idg],groupes_cah[idg]))\n"
      ],
      "execution_count": null,
      "outputs": [
        {
          "output_type": "display_data",
          "data": {
            "image/png": "[encoded data removed]",
            "text/plain": [
              "<Figure size 576x396 with 1 Axes>"
            ]
          },
          "metadata": {}
        },
        {
          "output_type": "stream",
          "name": "stdout",
          "text": [
            "[ 8  8  6  7  9  3  4  5 10 11 16 12 14 13 15 17 21 22 23 18 19 20 24 26\n",
            " 25 27  1  2]\n",
            "              Fromages\n",
            "1                 Tome\n",
            "2             Vacherin\n",
            "3               Cantal\n",
            "4            Chabichou\n",
            "5             Chaource\n",
            "6             Beaufort\n",
            "7                 Bleu\n",
            "8          CarredelEst\n",
            "8              Babybel\n",
            "9            Camembert\n",
            "10             Cheddar\n",
            "11               Comte\n",
            "12                Edam\n",
            "13  Fr.chevrepatemolle\n",
            "14            Emmental\n",
            "15         Fr.fondu.45\n",
            "16         Coulomniers\n",
            "17      Fr.frais20nat.\n",
            "18            Parmesan\n",
            "19       Petitsuisse40\n",
            "20         PontlEveque\n",
            "21      Fr.frais40nat.\n",
            "22           Maroilles\n",
            "23             Morbier\n",
            "24            Pyrenees\n",
            "25          Rocquefort\n",
            "26           Reblochon\n",
            "27         SaintPaulin\n"
          ]
        }
      ]
    }
  ]
}